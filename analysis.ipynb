{
 "cells": [
  {
   "cell_type": "markdown",
   "id": "1e65ac16",
   "metadata": {},
   "source": [
    ">#### 📥 Importing Libraries and Loading Dataset"
   ]
  },
  {
   "cell_type": "code",
   "execution_count": 172,
   "id": "dcadd2b6",
   "metadata": {},
   "outputs": [],
   "source": [
    "import pandas as pd \n",
    "import numpy as np\n",
    "import matplotlib.pyplot as plt\n",
    "import seaborn as sns \n",
    "import warnings\n",
    "warnings.filterwarnings('ignore')\n",
    "df=pd.read_csv('D:/python for data science/courier_project/delivery_data.csv')"
   ]
  },
  {
   "cell_type": "code",
   "execution_count": 174,
   "id": "07856568",
   "metadata": {},
   "outputs": [
    {
     "data": {
      "text/html": [
       "<div>\n",
       "<style scoped>\n",
       "    .dataframe tbody tr th:only-of-type {\n",
       "        vertical-align: middle;\n",
       "    }\n",
       "\n",
       "    .dataframe tbody tr th {\n",
       "        vertical-align: top;\n",
       "    }\n",
       "\n",
       "    .dataframe thead th {\n",
       "        text-align: right;\n",
       "    }\n",
       "</style>\n",
       "<table border=\"1\" class=\"dataframe\">\n",
       "  <thead>\n",
       "    <tr style=\"text-align: right;\">\n",
       "      <th></th>\n",
       "      <th>Traffic_Level</th>\n",
       "      <th>Delivery_person_ID</th>\n",
       "      <th>weather_description</th>\n",
       "      <th>Type_of_order</th>\n",
       "      <th>Type_of_vehicle</th>\n",
       "      <th>Delivery_person_Age</th>\n",
       "      <th>Delivery_person_Ratings</th>\n",
       "      <th>Restaurant_latitude</th>\n",
       "      <th>Restaurant_longitude</th>\n",
       "      <th>Delivery_location_latitude</th>\n",
       "      <th>Delivery_location_longitude</th>\n",
       "      <th>temperature</th>\n",
       "      <th>humidity</th>\n",
       "      <th>Distance (km)</th>\n",
       "    </tr>\n",
       "  </thead>\n",
       "  <tbody>\n",
       "    <tr>\n",
       "      <th>0</th>\n",
       "      <td>High</td>\n",
       "      <td>CHENRES12DEL01</td>\n",
       "      <td>mist</td>\n",
       "      <td>Snack</td>\n",
       "      <td>scooter</td>\n",
       "      <td>32</td>\n",
       "      <td>4.6</td>\n",
       "      <td>12.972.793</td>\n",
       "      <td>80.249.982</td>\n",
       "      <td>13.012.793</td>\n",
       "      <td>80.289.982</td>\n",
       "      <td>26.55</td>\n",
       "      <td>87.0</td>\n",
       "      <td>9.89</td>\n",
       "    </tr>\n",
       "    <tr>\n",
       "      <th>1</th>\n",
       "      <td>High</td>\n",
       "      <td>RANCHIRES15DEL01</td>\n",
       "      <td>clear sky</td>\n",
       "      <td>Meal</td>\n",
       "      <td>scooter</td>\n",
       "      <td>33</td>\n",
       "      <td>4.7</td>\n",
       "      <td>23.369.746</td>\n",
       "      <td>8.533.982</td>\n",
       "      <td>23.479.746</td>\n",
       "      <td>8.544.982</td>\n",
       "      <td>17.51</td>\n",
       "      <td>69.0</td>\n",
       "      <td>19.11</td>\n",
       "    </tr>\n",
       "    <tr>\n",
       "      <th>2</th>\n",
       "      <td>High</td>\n",
       "      <td>DEHRES17DEL01</td>\n",
       "      <td>clear sky</td>\n",
       "      <td>Snack</td>\n",
       "      <td>motorcycle</td>\n",
       "      <td>36</td>\n",
       "      <td>4.2</td>\n",
       "      <td>30.327.968</td>\n",
       "      <td>78.046.106</td>\n",
       "      <td>30.397.968</td>\n",
       "      <td>78.116.106</td>\n",
       "      <td>12.44</td>\n",
       "      <td>77.0</td>\n",
       "      <td>11.59</td>\n",
       "    </tr>\n",
       "    <tr>\n",
       "      <th>3</th>\n",
       "      <td>High</td>\n",
       "      <td>PUNERES13DEL03</td>\n",
       "      <td>clear sky</td>\n",
       "      <td>Drinks</td>\n",
       "      <td>scooter</td>\n",
       "      <td>23</td>\n",
       "      <td>4.7</td>\n",
       "      <td>1.856.245</td>\n",
       "      <td>73.916.619</td>\n",
       "      <td>1.865.245</td>\n",
       "      <td>74.006.619</td>\n",
       "      <td>19.37</td>\n",
       "      <td>65.0</td>\n",
       "      <td>21.93</td>\n",
       "    </tr>\n",
       "    <tr>\n",
       "      <th>4</th>\n",
       "      <td>High</td>\n",
       "      <td>HYDRES14DEL01</td>\n",
       "      <td>overcast clouds</td>\n",
       "      <td>Snack</td>\n",
       "      <td>motorcycle</td>\n",
       "      <td>34</td>\n",
       "      <td>4.9</td>\n",
       "      <td>17.426.228</td>\n",
       "      <td>78.407.495</td>\n",
       "      <td>17.496.228</td>\n",
       "      <td>78.477.495</td>\n",
       "      <td>21.29</td>\n",
       "      <td>64.0</td>\n",
       "      <td>18.26</td>\n",
       "    </tr>\n",
       "  </tbody>\n",
       "</table>\n",
       "</div>"
      ],
      "text/plain": [
       "  Traffic_Level Delivery_person_ID weather_description Type_of_order  \\\n",
       "0          High     CHENRES12DEL01                mist         Snack   \n",
       "1          High   RANCHIRES15DEL01           clear sky          Meal   \n",
       "2          High      DEHRES17DEL01           clear sky         Snack   \n",
       "3          High     PUNERES13DEL03           clear sky        Drinks   \n",
       "4          High      HYDRES14DEL01     overcast clouds         Snack   \n",
       "\n",
       "  Type_of_vehicle  Delivery_person_Age  Delivery_person_Ratings  \\\n",
       "0         scooter                   32                      4.6   \n",
       "1         scooter                   33                      4.7   \n",
       "2      motorcycle                   36                      4.2   \n",
       "3         scooter                   23                      4.7   \n",
       "4      motorcycle                   34                      4.9   \n",
       "\n",
       "  Restaurant_latitude Restaurant_longitude Delivery_location_latitude  \\\n",
       "0          12.972.793           80.249.982                 13.012.793   \n",
       "1          23.369.746            8.533.982                 23.479.746   \n",
       "2          30.327.968           78.046.106                 30.397.968   \n",
       "3           1.856.245           73.916.619                  1.865.245   \n",
       "4          17.426.228           78.407.495                 17.496.228   \n",
       "\n",
       "  Delivery_location_longitude  temperature  humidity  Distance (km)  \n",
       "0                  80.289.982        26.55      87.0           9.89  \n",
       "1                   8.544.982        17.51      69.0          19.11  \n",
       "2                  78.116.106        12.44      77.0          11.59  \n",
       "3                  74.006.619        19.37      65.0          21.93  \n",
       "4                  78.477.495        21.29      64.0          18.26  "
      ]
     },
     "execution_count": 174,
     "metadata": {},
     "output_type": "execute_result"
    }
   ],
   "source": [
    "df.head()"
   ]
  },
  {
   "cell_type": "markdown",
   "id": "ae8f00c4",
   "metadata": {},
   "source": [
    "#### 📊 Displaying Dataset Information\n",
    "**Dataset Overview:**\n",
    ">The dataset has 10,000 delivery records with 14 features, covering delivery details, personnel demographics, locations, environmental conditions, and distances. Some columns, including traffic level, weather, and distance, contain missing values."
   ]
  },
  {
   "cell_type": "code",
   "execution_count": 175,
   "id": "8bfa4cbb",
   "metadata": {},
   "outputs": [
    {
     "name": "stdout",
     "output_type": "stream",
     "text": [
      "<class 'pandas.core.frame.DataFrame'>\n",
      "RangeIndex: 10000 entries, 0 to 9999\n",
      "Data columns (total 14 columns):\n",
      " #   Column                       Non-Null Count  Dtype  \n",
      "---  ------                       --------------  -----  \n",
      " 0   Traffic_Level                9085 non-null   object \n",
      " 1   Delivery_person_ID           10000 non-null  object \n",
      " 2   weather_description          9995 non-null   object \n",
      " 3   Type_of_order                10000 non-null  object \n",
      " 4   Type_of_vehicle              10000 non-null  object \n",
      " 5   Delivery_person_Age          10000 non-null  int64  \n",
      " 6   Delivery_person_Ratings      10000 non-null  float64\n",
      " 7   Restaurant_latitude          10000 non-null  object \n",
      " 8   Restaurant_longitude         10000 non-null  object \n",
      " 9   Delivery_location_latitude   10000 non-null  object \n",
      " 10  Delivery_location_longitude  10000 non-null  object \n",
      " 11  temperature                  9995 non-null   float64\n",
      " 12  humidity                     9995 non-null   float64\n",
      " 13  Distance (km)                9080 non-null   float64\n",
      "dtypes: float64(4), int64(1), object(9)\n",
      "memory usage: 1.1+ MB\n"
     ]
    }
   ],
   "source": [
    "df.info()"
   ]
  },
  {
   "cell_type": "markdown",
   "id": "786d7ad0",
   "metadata": {},
   "source": [
    ">**Instead of dropping missing values, we use imputation techniques to retain dataset size and improve data quality for analysis and modeling.**"
   ]
  },
  {
   "cell_type": "markdown",
   "id": "7a950bdf",
   "metadata": {},
   "source": [
    "#### 🛠️ Filling Missing the Values with Median and Mode\n",
    ">**The missing values in categorical columns ``Traffic_Level`` and ``weather_description`` are imputed using the mode, replacing them with the most frequent values in the dataset.**"
   ]
  },
  {
   "cell_type": "code",
   "execution_count": 176,
   "id": "563bcfc1",
   "metadata": {},
   "outputs": [],
   "source": [
    "df['Traffic_Level'].fillna(df['Traffic_Level'].mode()[0],inplace=True)"
   ]
  },
  {
   "cell_type": "code",
   "execution_count": null,
   "id": "7ddca972",
   "metadata": {},
   "outputs": [],
   "source": [
    "df['weather_description'].fillna(df['weather_description'].mode()[0],inplace=True)"
   ]
  },
  {
   "cell_type": "markdown",
   "id": "c38b3459",
   "metadata": {},
   "source": [
    ">**The `temperature`, `humidity` and `Distance` are numerical columns, so missing values are filled with the median instead of the mean, because the mean can be distorted by extreme values (outliers).**"
   ]
  },
  {
   "cell_type": "code",
   "execution_count": 178,
   "id": "ddf12714",
   "metadata": {},
   "outputs": [],
   "source": [
    "df['temperature'].fillna(df['temperature'].median(),inplace=True)"
   ]
  },
  {
   "cell_type": "code",
   "execution_count": 179,
   "id": "d1c4c04b",
   "metadata": {},
   "outputs": [],
   "source": [
    "df['humidity'].fillna(df['humidity'].median(),inplace=True)"
   ]
  },
  {
   "cell_type": "code",
   "execution_count": 180,
   "id": "6ab5ba41",
   "metadata": {},
   "outputs": [],
   "source": [
    "df['Distance (km)'].fillna(df['Distance (km)'].median(),inplace=True)"
   ]
  },
  {
   "cell_type": "markdown",
   "id": "759bdd62",
   "metadata": {},
   "source": [
    ">**All missing values in both categorical and numerical columns have been imputed, so the dataset is now complete with no missing values remaining.**\n"
   ]
  },
  {
   "cell_type": "code",
   "execution_count": 181,
   "id": "3c5332c4",
   "metadata": {},
   "outputs": [
    {
     "name": "stdout",
     "output_type": "stream",
     "text": [
      "<class 'pandas.core.frame.DataFrame'>\n",
      "RangeIndex: 10000 entries, 0 to 9999\n",
      "Data columns (total 14 columns):\n",
      " #   Column                       Non-Null Count  Dtype  \n",
      "---  ------                       --------------  -----  \n",
      " 0   Traffic_Level                10000 non-null  object \n",
      " 1   Delivery_person_ID           10000 non-null  object \n",
      " 2   weather_description          10000 non-null  object \n",
      " 3   Type_of_order                10000 non-null  object \n",
      " 4   Type_of_vehicle              10000 non-null  object \n",
      " 5   Delivery_person_Age          10000 non-null  int64  \n",
      " 6   Delivery_person_Ratings      10000 non-null  float64\n",
      " 7   Restaurant_latitude          10000 non-null  object \n",
      " 8   Restaurant_longitude         10000 non-null  object \n",
      " 9   Delivery_location_latitude   10000 non-null  object \n",
      " 10  Delivery_location_longitude  10000 non-null  object \n",
      " 11  temperature                  10000 non-null  float64\n",
      " 12  humidity                     10000 non-null  float64\n",
      " 13  Distance (km)                10000 non-null  float64\n",
      "dtypes: float64(4), int64(1), object(9)\n",
      "memory usage: 1.1+ MB\n"
     ]
    }
   ],
   "source": [
    "df.info()"
   ]
  },
  {
   "cell_type": "markdown",
   "id": "163852f9",
   "metadata": {},
   "source": [
    ">#### 📑 **Counting Duplicate Rows in Dataset**"
   ]
  },
  {
   "cell_type": "code",
   "execution_count": 183,
   "id": "bb080e06",
   "metadata": {},
   "outputs": [
    {
     "data": {
      "text/plain": [
       "np.int64(4)"
      ]
     },
     "execution_count": 183,
     "metadata": {},
     "output_type": "execute_result"
    }
   ],
   "source": [
    "df.duplicated().sum()"
   ]
  },
  {
   "cell_type": "markdown",
   "id": "37a0bac5",
   "metadata": {},
   "source": [
    ">#### 🧹 Removing Duplicate Rows from Dataset"
   ]
  },
  {
   "cell_type": "code",
   "execution_count": 184,
   "id": "636f5d1d",
   "metadata": {},
   "outputs": [],
   "source": [
    "df.drop_duplicates(inplace=True)"
   ]
  },
  {
   "cell_type": "code",
   "execution_count": 185,
   "id": "7a8bc0f7",
   "metadata": {},
   "outputs": [
    {
     "data": {
      "text/plain": [
       "np.int64(0)"
      ]
     },
     "execution_count": 185,
     "metadata": {},
     "output_type": "execute_result"
    }
   ],
   "source": [
    "df.duplicated().sum()"
   ]
  },
  {
   "cell_type": "markdown",
   "id": "02afebae",
   "metadata": {},
   "source": [
    ">**We will rename the columns to shorter and cleaner versions, making them easier to read, write, and interpret while reducing errors during analysis.**"
   ]
  },
  {
   "cell_type": "code",
   "execution_count": 188,
   "id": "cadec7a2",
   "metadata": {},
   "outputs": [],
   "source": [
    "df = df.rename(columns={\n",
    "    \"Traffic_Level\": \"traffic\",\n",
    "    \"ID\": \"id\",\n",
    "    \"Delivery_person_ID\": \"driver_id\",\n",
    "    \"weather_description\": \"weather\",\n",
    "    \"Type_of_order\": \"order_type\",\n",
    "    \"Type_of_vehicle\": \"vehicle_type\",\n",
    "    \"Delivery_person_Age\": \"driver_age\",\n",
    "    \"Delivery_person_Ratings\": \"driver_rating\",\n",
    "    \"Restaurant_latitude\": \"rest_lat\",\n",
    "    \"Restaurant_longitude\": \"rest_lon\",\n",
    "    \"Delivery_location_latitude\": \"dest_lat\",\n",
    "    \"Delivery_location_longitude\": \"dest_lon\",\n",
    "    \"temperature\": \"temp\",\n",
    "    \"humidity\": \"humidity\",\n",
    "    \"Distance (km)\": \"distance\"\n",
    "})\n"
   ]
  },
  {
   "cell_type": "markdown",
   "id": "6be43ecb",
   "metadata": {},
   "source": [
    ">#### **Here are the all new column names**"
   ]
  },
  {
   "cell_type": "code",
   "execution_count": 190,
   "id": "db9dba52",
   "metadata": {},
   "outputs": [
    {
     "data": {
      "text/plain": [
       "Index(['traffic', 'driver_id', 'weather', 'order_type', 'vehicle_type',\n",
       "       'driver_age', 'driver_rating', 'rest_lat', 'rest_lon', 'dest_lat',\n",
       "       'dest_lon', 'temp', 'humidity', 'distance'],\n",
       "      dtype='object')"
      ]
     },
     "execution_count": 190,
     "metadata": {},
     "output_type": "execute_result"
    }
   ],
   "source": [
    "df.columns"
   ]
  },
  {
   "cell_type": "markdown",
   "id": "bfa518b5",
   "metadata": {},
   "source": [
    ">**We standardize the weather column by grouping similar descriptions into broader categories, reducing redundancy, simplifying analysis, and ensuring consistency for easier interpretation and modeling.**"
   ]
  },
  {
   "cell_type": "code",
   "execution_count": 192,
   "id": "638d9de4",
   "metadata": {},
   "outputs": [],
   "source": [
    "mapping = {\n",
    "    \"clear sky\": \"Clear\",\n",
    "    \"few clouds\": \"Partly Cloudy\",\n",
    "    \"scattered clouds\": \"Partly Cloudy\",\n",
    "    \"broken clouds\": \"Cloudy\",\n",
    "    \"overcast clouds\": \"Cloudy\",\n",
    "    \"haze\": \"Foggy\",\n",
    "    \"mist\": \"Foggy\",\n",
    "    \"fog\": \"Foggy\",\n",
    "    \"smoke\": \"Foggy\",\n",
    "    \"light rain\": \"Rain\",\n",
    "    \"moderate rain\": \"Rain\"\n",
    "}\n",
    "\n",
    "df['weather'] = df['weather'].replace(mapping)\n"
   ]
  },
  {
   "cell_type": "markdown",
   "id": "3c675962",
   "metadata": {},
   "source": [
    ">**This shows the frequency of each unique category in the weather column, helping us understand the distribution of weather conditions and identify the most and least common categories.**"
   ]
  },
  {
   "cell_type": "code",
   "execution_count": 193,
   "id": "d62e7d34",
   "metadata": {},
   "outputs": [
    {
     "data": {
      "text/plain": [
       "weather\n",
       "Foggy            4707\n",
       "Clear            3264\n",
       "Cloudy           1026\n",
       "Rain              537\n",
       "Partly Cloudy     462\n",
       "Name: count, dtype: int64"
      ]
     },
     "execution_count": 193,
     "metadata": {},
     "output_type": "execute_result"
    }
   ],
   "source": [
    "df['weather'].value_counts()"
   ]
  },
  {
   "cell_type": "markdown",
   "id": "c7855035",
   "metadata": {},
   "source": [
    ">**We simplify and standardize the vehicle_type column by merging similar categories into broader groups. This reduces fragmentation, improves clarity, and ensures more consistent, analyzable data..**"
   ]
  },
  {
   "cell_type": "code",
   "execution_count": 194,
   "id": "ed61e79c",
   "metadata": {},
   "outputs": [],
   "source": [
    "mapping = {\n",
    "    \"motorcycle\": \"Bike\",\n",
    "    \"scooter\": \"Bike\",        # merged into Motorcycle\n",
    "    \"electric_scooter\": \"E-Bike\",\n",
    "    \"bicycle\": \"Bicycle\"\n",
    "}\n",
    "\n",
    "df['vehicle_type'] = df['vehicle_type'].replace(mapping)\n"
   ]
  },
  {
   "cell_type": "markdown",
   "id": "4ebd8c3e",
   "metadata": {},
   "source": [
    ">**This displays the count of each vehicle type after standardization, showing their frequency distribution and highlighting which vehicle categories are most and least common in deliveries.**"
   ]
  },
  {
   "cell_type": "code",
   "execution_count": 195,
   "id": "fc32a2ed",
   "metadata": {},
   "outputs": [
    {
     "data": {
      "text/plain": [
       "vehicle_type\n",
       "Bike       9163\n",
       "E-Bike      813\n",
       "Bicycle      20\n",
       "Name: count, dtype: int64"
      ]
     },
     "execution_count": 195,
     "metadata": {},
     "output_type": "execute_result"
    }
   ],
   "source": [
    "df['vehicle_type'].value_counts()"
   ]
  },
  {
   "cell_type": "markdown",
   "id": "ebe06a0e",
   "metadata": {},
   "source": [
    "#### Data Preprocessing Observations\n",
    "\n",
    ">**From the descriptive statistics, several irregularities and potential outliers were identified:**\n",
    "\n",
    "1. Driver Age: Minimum = 15 (below legal driving age), Maximum = 50 (unusually high). → These records will be removed.\n",
    "2. Driver Rating: Maximum = 6, exceeding the valid 1–5 range. → To be corrected.\n",
    "3. Humidity: Maximum = 94%, which is high but realistic. → Retained.\n",
    "4. Distance: Maximum = 59.84 km, much higher than typical values. → To be investigated and treated as an outlier."
   ]
  },
  {
   "cell_type": "code",
   "execution_count": 196,
   "id": "8f09c1e9",
   "metadata": {},
   "outputs": [
    {
     "data": {
      "text/html": [
       "<div>\n",
       "<style scoped>\n",
       "    .dataframe tbody tr th:only-of-type {\n",
       "        vertical-align: middle;\n",
       "    }\n",
       "\n",
       "    .dataframe tbody tr th {\n",
       "        vertical-align: top;\n",
       "    }\n",
       "\n",
       "    .dataframe thead th {\n",
       "        text-align: right;\n",
       "    }\n",
       "</style>\n",
       "<table border=\"1\" class=\"dataframe\">\n",
       "  <thead>\n",
       "    <tr style=\"text-align: right;\">\n",
       "      <th></th>\n",
       "      <th>driver_age</th>\n",
       "      <th>driver_rating</th>\n",
       "      <th>temp</th>\n",
       "      <th>humidity</th>\n",
       "      <th>distance</th>\n",
       "    </tr>\n",
       "  </thead>\n",
       "  <tbody>\n",
       "    <tr>\n",
       "      <th>count</th>\n",
       "      <td>9996.000000</td>\n",
       "      <td>9996.000000</td>\n",
       "      <td>9996.000000</td>\n",
       "      <td>9996.000000</td>\n",
       "      <td>9996.000000</td>\n",
       "    </tr>\n",
       "    <tr>\n",
       "      <th>mean</th>\n",
       "      <td>29.522809</td>\n",
       "      <td>4.629332</td>\n",
       "      <td>22.937968</td>\n",
       "      <td>66.164066</td>\n",
       "      <td>14.213292</td>\n",
       "    </tr>\n",
       "    <tr>\n",
       "      <th>std</th>\n",
       "      <td>5.701248</td>\n",
       "      <td>0.322989</td>\n",
       "      <td>3.378792</td>\n",
       "      <td>15.601442</td>\n",
       "      <td>7.986090</td>\n",
       "    </tr>\n",
       "    <tr>\n",
       "      <th>min</th>\n",
       "      <td>15.000000</td>\n",
       "      <td>1.000000</td>\n",
       "      <td>6.770000</td>\n",
       "      <td>27.000000</td>\n",
       "      <td>1.550000</td>\n",
       "    </tr>\n",
       "    <tr>\n",
       "      <th>25%</th>\n",
       "      <td>25.000000</td>\n",
       "      <td>4.500000</td>\n",
       "      <td>20.140000</td>\n",
       "      <td>54.000000</td>\n",
       "      <td>8.210000</td>\n",
       "    </tr>\n",
       "    <tr>\n",
       "      <th>50%</th>\n",
       "      <td>29.000000</td>\n",
       "      <td>4.700000</td>\n",
       "      <td>23.000000</td>\n",
       "      <td>67.000000</td>\n",
       "      <td>13.400000</td>\n",
       "    </tr>\n",
       "    <tr>\n",
       "      <th>75%</th>\n",
       "      <td>34.000000</td>\n",
       "      <td>4.800000</td>\n",
       "      <td>25.980000</td>\n",
       "      <td>81.000000</td>\n",
       "      <td>18.860000</td>\n",
       "    </tr>\n",
       "    <tr>\n",
       "      <th>max</th>\n",
       "      <td>50.000000</td>\n",
       "      <td>6.000000</td>\n",
       "      <td>29.050000</td>\n",
       "      <td>94.000000</td>\n",
       "      <td>59.840000</td>\n",
       "    </tr>\n",
       "  </tbody>\n",
       "</table>\n",
       "</div>"
      ],
      "text/plain": [
       "        driver_age  driver_rating         temp     humidity     distance\n",
       "count  9996.000000    9996.000000  9996.000000  9996.000000  9996.000000\n",
       "mean     29.522809       4.629332    22.937968    66.164066    14.213292\n",
       "std       5.701248       0.322989     3.378792    15.601442     7.986090\n",
       "min      15.000000       1.000000     6.770000    27.000000     1.550000\n",
       "25%      25.000000       4.500000    20.140000    54.000000     8.210000\n",
       "50%      29.000000       4.700000    23.000000    67.000000    13.400000\n",
       "75%      34.000000       4.800000    25.980000    81.000000    18.860000\n",
       "max      50.000000       6.000000    29.050000    94.000000    59.840000"
      ]
     },
     "execution_count": 196,
     "metadata": {},
     "output_type": "execute_result"
    }
   ],
   "source": [
    "df.describe()"
   ]
  },
  {
   "cell_type": "markdown",
   "id": "14326cda",
   "metadata": {},
   "source": [
    ">**We will remove the unrealistic driver age values (15 and 50) from the dataset**"
   ]
  },
  {
   "cell_type": "code",
   "execution_count": 197,
   "id": "1d482716",
   "metadata": {},
   "outputs": [],
   "source": [
    "df = df[~df['driver_age'].isin([50, 15])]"
   ]
  },
  {
   "cell_type": "markdown",
   "id": "260c4f7d",
   "metadata": {},
   "source": [
    ">**After filtering out unrealistic driver ages (15 and 50), the invalid rating of 6 is also removed since it was tied to those records, leaving only valid ratings within the 1–5 range.**"
   ]
  },
  {
   "cell_type": "code",
   "execution_count": 198,
   "id": "65520de5",
   "metadata": {},
   "outputs": [
    {
     "data": {
      "text/html": [
       "<div>\n",
       "<style scoped>\n",
       "    .dataframe tbody tr th:only-of-type {\n",
       "        vertical-align: middle;\n",
       "    }\n",
       "\n",
       "    .dataframe tbody tr th {\n",
       "        vertical-align: top;\n",
       "    }\n",
       "\n",
       "    .dataframe thead th {\n",
       "        text-align: right;\n",
       "    }\n",
       "</style>\n",
       "<table border=\"1\" class=\"dataframe\">\n",
       "  <thead>\n",
       "    <tr style=\"text-align: right;\">\n",
       "      <th></th>\n",
       "      <th>driver_age</th>\n",
       "      <th>driver_rating</th>\n",
       "      <th>temp</th>\n",
       "      <th>humidity</th>\n",
       "      <th>distance</th>\n",
       "    </tr>\n",
       "  </thead>\n",
       "  <tbody>\n",
       "    <tr>\n",
       "      <th>count</th>\n",
       "      <td>9981.000000</td>\n",
       "      <td>9981.000000</td>\n",
       "      <td>9981.000000</td>\n",
       "      <td>9981.000000</td>\n",
       "      <td>9981.000000</td>\n",
       "    </tr>\n",
       "    <tr>\n",
       "      <th>mean</th>\n",
       "      <td>29.509568</td>\n",
       "      <td>4.629777</td>\n",
       "      <td>22.938552</td>\n",
       "      <td>66.166516</td>\n",
       "      <td>14.211760</td>\n",
       "    </tr>\n",
       "    <tr>\n",
       "      <th>std</th>\n",
       "      <td>5.659248</td>\n",
       "      <td>0.309834</td>\n",
       "      <td>3.379503</td>\n",
       "      <td>15.594136</td>\n",
       "      <td>7.988873</td>\n",
       "    </tr>\n",
       "    <tr>\n",
       "      <th>min</th>\n",
       "      <td>20.000000</td>\n",
       "      <td>2.500000</td>\n",
       "      <td>6.770000</td>\n",
       "      <td>27.000000</td>\n",
       "      <td>1.550000</td>\n",
       "    </tr>\n",
       "    <tr>\n",
       "      <th>25%</th>\n",
       "      <td>25.000000</td>\n",
       "      <td>4.500000</td>\n",
       "      <td>20.140000</td>\n",
       "      <td>54.000000</td>\n",
       "      <td>8.210000</td>\n",
       "    </tr>\n",
       "    <tr>\n",
       "      <th>50%</th>\n",
       "      <td>29.000000</td>\n",
       "      <td>4.700000</td>\n",
       "      <td>23.000000</td>\n",
       "      <td>67.000000</td>\n",
       "      <td>13.400000</td>\n",
       "    </tr>\n",
       "    <tr>\n",
       "      <th>75%</th>\n",
       "      <td>34.000000</td>\n",
       "      <td>4.800000</td>\n",
       "      <td>25.980000</td>\n",
       "      <td>81.000000</td>\n",
       "      <td>18.860000</td>\n",
       "    </tr>\n",
       "    <tr>\n",
       "      <th>max</th>\n",
       "      <td>39.000000</td>\n",
       "      <td>5.000000</td>\n",
       "      <td>29.050000</td>\n",
       "      <td>94.000000</td>\n",
       "      <td>59.840000</td>\n",
       "    </tr>\n",
       "  </tbody>\n",
       "</table>\n",
       "</div>"
      ],
      "text/plain": [
       "        driver_age  driver_rating         temp     humidity     distance\n",
       "count  9981.000000    9981.000000  9981.000000  9981.000000  9981.000000\n",
       "mean     29.509568       4.629777    22.938552    66.166516    14.211760\n",
       "std       5.659248       0.309834     3.379503    15.594136     7.988873\n",
       "min      20.000000       2.500000     6.770000    27.000000     1.550000\n",
       "25%      25.000000       4.500000    20.140000    54.000000     8.210000\n",
       "50%      29.000000       4.700000    23.000000    67.000000    13.400000\n",
       "75%      34.000000       4.800000    25.980000    81.000000    18.860000\n",
       "max      39.000000       5.000000    29.050000    94.000000    59.840000"
      ]
     },
     "execution_count": 198,
     "metadata": {},
     "output_type": "execute_result"
    }
   ],
   "source": [
    "df.describe()"
   ]
  },
  {
   "cell_type": "markdown",
   "id": "6d4468f0",
   "metadata": {},
   "source": [
    "#### We will create a bar plot and a box plot for the distance column to visually inspect for outliers.\n",
    ">**The box plot will clearly show the distribution, median, quartiles, and extreme values, helping to identify outliers that may skew the analysis.**"
   ]
  },
  {
   "cell_type": "code",
   "execution_count": 199,
   "id": "5369f7de",
   "metadata": {},
   "outputs": [
    {
     "data": {
      "image/png": "[encoded data removed]",
      "text/plain": [
       "<Figure size 640x480 with 1 Axes>"
      ]
     },
     "metadata": {},
     "output_type": "display_data"
    }
   ],
   "source": [
    "sns.boxplot(x=df['distance'])\n",
    "plt.title('Boxplot of Delivery Distances')\n",
    "plt.xlabel('Distance')\n",
    "plt.show()"
   ]
  },
  {
   "cell_type": "markdown",
   "id": "56d6eb40",
   "metadata": {},
   "source": [
    ">**The bar plot will show the frequency of deliveries at different distance ranges, helping identify unusually high or low values.**\n",
    ">**These visualizations will guide us in deciding whether any extreme distance values need to be treated or removed.**"
   ]
  },
  {
   "cell_type": "code",
   "execution_count": 200,
   "id": "223f4d29",
   "metadata": {},
   "outputs": [
    {
     "data": {
      "image/png": "[encoded data removed]",
      "text/plain": [
       "<Figure size 640x480 with 1 Axes>"
      ]
     },
     "metadata": {},
     "output_type": "display_data"
    }
   ],
   "source": [
    "sns.histplot(df['distance'], kde=True)\n",
    "plt.title('Barplot of Delivery Distances')\n",
    "plt.xlabel('Distance')\n",
    "plt.show()"
   ]
  },
  {
   "cell_type": "markdown",
   "id": "bd491f77",
   "metadata": {},
   "source": [
    "**We calculate outlier thresholds for the distance column using the 3-sigma rule:**\n",
    "1. **Upper bound: mean + 3 × standard deviation**\n",
    "2. **Lower bound: mean − 3 × standard deviation**\n",
    "\n",
    ">**Any values outside this range are flagged as outliers, helping detect unusually high or low delivery distances that could distort analysis.**"
   ]
  },
  {
   "cell_type": "code",
   "execution_count": null,
   "id": "6af51ada",
   "metadata": {},
   "outputs": [
    {
     "data": {
      "text/plain": [
       "(np.float64(38.17837876717937), np.float64(-9.754858077869674))"
      ]
     },
     "execution_count": 201,
     "metadata": {},
     "output_type": "execute_result"
    }
   ],
   "source": [
    "upper_limit=df['distance'].mean() + 3*df['distance'].std()\n",
    "lower_limit=df['distance'].mean() - 3*df['distance'].std()\n",
    "upper_limit, lower_limit\n"
   ]
  },
  {
   "cell_type": "markdown",
   "id": "15b95c62",
   "metadata": {},
   "source": [
    ">**We select all rows where the delivery distance falls outside the 3-sigma limits (greater than the upper bound or less than the lower bound). This isolates unusually high or low distances for further review or treatment.**"
   ]
  },
  {
   "cell_type": "code",
   "execution_count": 202,
   "id": "034b6c71",
   "metadata": {},
   "outputs": [
    {
     "data": {
      "text/html": [
       "<div>\n",
       "<style scoped>\n",
       "    .dataframe tbody tr th:only-of-type {\n",
       "        vertical-align: middle;\n",
       "    }\n",
       "\n",
       "    .dataframe tbody tr th {\n",
       "        vertical-align: top;\n",
       "    }\n",
       "\n",
       "    .dataframe thead th {\n",
       "        text-align: right;\n",
       "    }\n",
       "</style>\n",
       "<table border=\"1\" class=\"dataframe\">\n",
       "  <thead>\n",
       "    <tr style=\"text-align: right;\">\n",
       "      <th></th>\n",
       "      <th>traffic</th>\n",
       "      <th>driver_id</th>\n",
       "      <th>weather</th>\n",
       "      <th>order_type</th>\n",
       "      <th>vehicle_type</th>\n",
       "      <th>driver_age</th>\n",
       "      <th>driver_rating</th>\n",
       "      <th>rest_lat</th>\n",
       "      <th>rest_lon</th>\n",
       "      <th>dest_lat</th>\n",
       "      <th>dest_lon</th>\n",
       "      <th>temp</th>\n",
       "      <th>humidity</th>\n",
       "      <th>distance</th>\n",
       "    </tr>\n",
       "  </thead>\n",
       "  <tbody>\n",
       "    <tr>\n",
       "      <th>2556</th>\n",
       "      <td>High</td>\n",
       "      <td>LUDHRES16DEL03</td>\n",
       "      <td>Clear</td>\n",
       "      <td>Snack</td>\n",
       "      <td>Bike</td>\n",
       "      <td>39</td>\n",
       "      <td>4.9</td>\n",
       "      <td>30.895.817</td>\n",
       "      <td>75.813.112</td>\n",
       "      <td>31.035.817</td>\n",
       "      <td>75.953.112</td>\n",
       "      <td>22.54</td>\n",
       "      <td>41.0</td>\n",
       "      <td>40.98</td>\n",
       "    </tr>\n",
       "    <tr>\n",
       "      <th>7625</th>\n",
       "      <td>Very High</td>\n",
       "      <td>MUMRES14DEL02</td>\n",
       "      <td>Clear</td>\n",
       "      <td>Meal</td>\n",
       "      <td>Bike</td>\n",
       "      <td>23</td>\n",
       "      <td>4.8</td>\n",
       "      <td>191.813</td>\n",
       "      <td>72.836.191</td>\n",
       "      <td>193.113</td>\n",
       "      <td>72.966.191</td>\n",
       "      <td>27.05</td>\n",
       "      <td>49.0</td>\n",
       "      <td>42.54</td>\n",
       "    </tr>\n",
       "    <tr>\n",
       "      <th>7703</th>\n",
       "      <td>Very High</td>\n",
       "      <td>DEHRES07DEL02</td>\n",
       "      <td>Clear</td>\n",
       "      <td>Buffet</td>\n",
       "      <td>Bike</td>\n",
       "      <td>37</td>\n",
       "      <td>4.7</td>\n",
       "      <td>30.362.686</td>\n",
       "      <td>7.806.889</td>\n",
       "      <td>30.492.686</td>\n",
       "      <td>7.819.889</td>\n",
       "      <td>12.01</td>\n",
       "      <td>81.0</td>\n",
       "      <td>54.27</td>\n",
       "    </tr>\n",
       "    <tr>\n",
       "      <th>7706</th>\n",
       "      <td>Very High</td>\n",
       "      <td>HYDRES04DEL02</td>\n",
       "      <td>Cloudy</td>\n",
       "      <td>Meal</td>\n",
       "      <td>Bike</td>\n",
       "      <td>33</td>\n",
       "      <td>4.8</td>\n",
       "      <td>17.411.028</td>\n",
       "      <td>78.329.645</td>\n",
       "      <td>17.541.028</td>\n",
       "      <td>78.459.645</td>\n",
       "      <td>21.20</td>\n",
       "      <td>67.0</td>\n",
       "      <td>53.49</td>\n",
       "    </tr>\n",
       "    <tr>\n",
       "      <th>7729</th>\n",
       "      <td>Very High</td>\n",
       "      <td>DEHRES08DEL03</td>\n",
       "      <td>Clear</td>\n",
       "      <td>Buffet</td>\n",
       "      <td>Bike</td>\n",
       "      <td>36</td>\n",
       "      <td>4.8</td>\n",
       "      <td>30.359.722</td>\n",
       "      <td>78.067.079</td>\n",
       "      <td>30.499.722</td>\n",
       "      <td>78.207.079</td>\n",
       "      <td>9.18</td>\n",
       "      <td>82.0</td>\n",
       "      <td>59.67</td>\n",
       "    </tr>\n",
       "    <tr>\n",
       "      <th>...</th>\n",
       "      <td>...</td>\n",
       "      <td>...</td>\n",
       "      <td>...</td>\n",
       "      <td>...</td>\n",
       "      <td>...</td>\n",
       "      <td>...</td>\n",
       "      <td>...</td>\n",
       "      <td>...</td>\n",
       "      <td>...</td>\n",
       "      <td>...</td>\n",
       "      <td>...</td>\n",
       "      <td>...</td>\n",
       "      <td>...</td>\n",
       "      <td>...</td>\n",
       "    </tr>\n",
       "    <tr>\n",
       "      <th>9239</th>\n",
       "      <td>Very High</td>\n",
       "      <td>MUMRES05DEL02</td>\n",
       "      <td>Foggy</td>\n",
       "      <td>Drinks</td>\n",
       "      <td>Bike</td>\n",
       "      <td>29</td>\n",
       "      <td>4.6</td>\n",
       "      <td>18.927.584</td>\n",
       "      <td>72.832.585</td>\n",
       "      <td>18.977.584</td>\n",
       "      <td>72.882.585</td>\n",
       "      <td>28.05</td>\n",
       "      <td>57.0</td>\n",
       "      <td>49.15</td>\n",
       "    </tr>\n",
       "    <tr>\n",
       "      <th>9288</th>\n",
       "      <td>Very High</td>\n",
       "      <td>JAPRES07DEL03</td>\n",
       "      <td>Foggy</td>\n",
       "      <td>Meal</td>\n",
       "      <td>Bike</td>\n",
       "      <td>24</td>\n",
       "      <td>4.6</td>\n",
       "      <td>26.766.536</td>\n",
       "      <td>75.837.333</td>\n",
       "      <td>26.906.536</td>\n",
       "      <td>75.977.333</td>\n",
       "      <td>24.07</td>\n",
       "      <td>46.0</td>\n",
       "      <td>38.54</td>\n",
       "    </tr>\n",
       "    <tr>\n",
       "      <th>9291</th>\n",
       "      <td>Very High</td>\n",
       "      <td>MUMRES04DEL02</td>\n",
       "      <td>Clear</td>\n",
       "      <td>Meal</td>\n",
       "      <td>Bike</td>\n",
       "      <td>24</td>\n",
       "      <td>4.5</td>\n",
       "      <td>19.254.567</td>\n",
       "      <td>72.848.923</td>\n",
       "      <td>19.384.567</td>\n",
       "      <td>72.978.923</td>\n",
       "      <td>27.71</td>\n",
       "      <td>58.0</td>\n",
       "      <td>51.16</td>\n",
       "    </tr>\n",
       "    <tr>\n",
       "      <th>9322</th>\n",
       "      <td>Very High</td>\n",
       "      <td>MUMRES13DEL02</td>\n",
       "      <td>Clear</td>\n",
       "      <td>Buffet</td>\n",
       "      <td>Bike</td>\n",
       "      <td>31</td>\n",
       "      <td>3.9</td>\n",
       "      <td>19.178.321</td>\n",
       "      <td>72.834.715</td>\n",
       "      <td>19.308.321</td>\n",
       "      <td>72.964.715</td>\n",
       "      <td>28.04</td>\n",
       "      <td>53.0</td>\n",
       "      <td>42.60</td>\n",
       "    </tr>\n",
       "    <tr>\n",
       "      <th>9357</th>\n",
       "      <td>Very High</td>\n",
       "      <td>AGRRES01DEL02</td>\n",
       "      <td>Clear</td>\n",
       "      <td>Meal</td>\n",
       "      <td>Bike</td>\n",
       "      <td>33</td>\n",
       "      <td>4.5</td>\n",
       "      <td>27.161.661</td>\n",
       "      <td>78.011.544</td>\n",
       "      <td>27.291.661</td>\n",
       "      <td>78.141.544</td>\n",
       "      <td>25.15</td>\n",
       "      <td>39.0</td>\n",
       "      <td>40.16</td>\n",
       "    </tr>\n",
       "  </tbody>\n",
       "</table>\n",
       "<p>69 rows × 14 columns</p>\n",
       "</div>"
      ],
      "text/plain": [
       "        traffic       driver_id weather order_type vehicle_type  driver_age  \\\n",
       "2556       High  LUDHRES16DEL03   Clear      Snack         Bike          39   \n",
       "7625  Very High   MUMRES14DEL02   Clear       Meal         Bike          23   \n",
       "7703  Very High   DEHRES07DEL02   Clear     Buffet         Bike          37   \n",
       "7706  Very High   HYDRES04DEL02  Cloudy       Meal         Bike          33   \n",
       "7729  Very High   DEHRES08DEL03   Clear     Buffet         Bike          36   \n",
       "...         ...             ...     ...        ...          ...         ...   \n",
       "9239  Very High   MUMRES05DEL02   Foggy     Drinks         Bike          29   \n",
       "9288  Very High   JAPRES07DEL03   Foggy       Meal         Bike          24   \n",
       "9291  Very High   MUMRES04DEL02   Clear       Meal         Bike          24   \n",
       "9322  Very High   MUMRES13DEL02   Clear     Buffet         Bike          31   \n",
       "9357  Very High   AGRRES01DEL02   Clear       Meal         Bike          33   \n",
       "\n",
       "      driver_rating    rest_lat    rest_lon    dest_lat    dest_lon   temp  \\\n",
       "2556            4.9  30.895.817  75.813.112  31.035.817  75.953.112  22.54   \n",
       "7625            4.8     191.813  72.836.191     193.113  72.966.191  27.05   \n",
       "7703            4.7  30.362.686   7.806.889  30.492.686   7.819.889  12.01   \n",
       "7706            4.8  17.411.028  78.329.645  17.541.028  78.459.645  21.20   \n",
       "7729            4.8  30.359.722  78.067.079  30.499.722  78.207.079   9.18   \n",
       "...             ...         ...         ...         ...         ...    ...   \n",
       "9239            4.6  18.927.584  72.832.585  18.977.584  72.882.585  28.05   \n",
       "9288            4.6  26.766.536  75.837.333  26.906.536  75.977.333  24.07   \n",
       "9291            4.5  19.254.567  72.848.923  19.384.567  72.978.923  27.71   \n",
       "9322            3.9  19.178.321  72.834.715  19.308.321  72.964.715  28.04   \n",
       "9357            4.5  27.161.661  78.011.544  27.291.661  78.141.544  25.15   \n",
       "\n",
       "      humidity  distance  \n",
       "2556      41.0     40.98  \n",
       "7625      49.0     42.54  \n",
       "7703      81.0     54.27  \n",
       "7706      67.0     53.49  \n",
       "7729      82.0     59.67  \n",
       "...        ...       ...  \n",
       "9239      57.0     49.15  \n",
       "9288      46.0     38.54  \n",
       "9291      58.0     51.16  \n",
       "9322      53.0     42.60  \n",
       "9357      39.0     40.16  \n",
       "\n",
       "[69 rows x 14 columns]"
      ]
     },
     "execution_count": 202,
     "metadata": {},
     "output_type": "execute_result"
    }
   ],
   "source": [
    "df.loc[(df['distance']> upper_limit) | (df['distance']< lower_limit)]"
   ]
  },
  {
   "cell_type": "markdown",
   "id": "881024da",
   "metadata": {},
   "source": [
    "#### Method 1: Z-Score Method\n",
    "\n",
    ">**Using the 3-sigma (Z-score) rule, outliers in the distance column are identified as values lying more than three standard deviations away from the mean. These records are removed, keeping only values within a reasonable range and ensuring cleaner data for analysis.**"
   ]
  },
  {
   "cell_type": "code",
   "execution_count": 203,
   "id": "b3278f99",
   "metadata": {},
   "outputs": [
    {
     "name": "stdout",
     "output_type": "stream",
     "text": [
      "Before removing outliers:9981\n",
      "After removing outliers:9912\n",
      "Outliers removed:69\n"
     ]
    }
   ],
   "source": [
    "new_df = df.loc[(df['distance']<= upper_limit) & (df['distance']>= lower_limit)]\n",
    "print(f'Before removing outliers:{df.shape[0]}')\n",
    "print(f'After removing outliers:{new_df.shape[0]}')\n",
    "print(f'Outliers removed:{df.shape[0]-new_df.shape[0]}')"
   ]
  },
  {
   "cell_type": "markdown",
   "id": "8ca99899",
   "metadata": {},
   "source": [
    "#### Method 2: Capping the Outliers\n",
    ">**In this approach, outliers are capped instead of removed. Values above the upper limit are replaced with the upper bound, and those below the lower limit are replaced with the lower bound. This preserves the dataset size while minimizing the influence of extreme values.**"
   ]
  },
  {
   "cell_type": "code",
   "execution_count": 204,
   "id": "236f01fe",
   "metadata": {},
   "outputs": [],
   "source": [
    "new_df=df.copy()\n",
    "new_df.loc[(new_df['distance']>upper_limit),'distance']= upper_limit\n",
    "new_df.loc[(new_df['distance']<lower_limit),'distance']= lower_limit"
   ]
  },
  {
   "cell_type": "markdown",
   "id": "222abccb",
   "metadata": {},
   "source": [
    ">**We will proceed with Method 2 (Capping Outliers), which adjusts extreme values instead of removing them. This keeps the dataset intact, preserves its shape, and reduces the impact of outliers on analysis.**"
   ]
  },
  {
   "cell_type": "code",
   "execution_count": 205,
   "id": "e0e43882",
   "metadata": {},
   "outputs": [
    {
     "data": {
      "text/plain": [
       "9981"
      ]
     },
     "execution_count": 205,
     "metadata": {},
     "output_type": "execute_result"
    }
   ],
   "source": [
    "new_df['distance'].shape[0]"
   ]
  },
  {
   "cell_type": "markdown",
   "id": "4a468256",
   "metadata": {},
   "source": [
    ">**After capping the outliers, we plot a boxplot of the `distance` column to visually verify that extreme values have been adjusted and the distribution appears more balanced.**"
   ]
  },
  {
   "cell_type": "code",
   "execution_count": 206,
   "id": "7e303ec0",
   "metadata": {},
   "outputs": [
    {
     "data": {
      "text/plain": [
       "<Axes: xlabel='distance'>"
      ]
     },
     "execution_count": 206,
     "metadata": {},
     "output_type": "execute_result"
    },
    {
     "data": {
      "image/png": "[encoded data removed]",
      "text/plain": [
       "<Figure size 640x480 with 1 Axes>"
      ]
     },
     "metadata": {},
     "output_type": "display_data"
    }
   ],
   "source": [
    "sns.boxplot(x=new_df['distance'])"
   ]
  },
  {
   "cell_type": "markdown",
   "id": "2741415b",
   "metadata": {},
   "source": [
    ">**The final dataset statistics appear cleaner and more consistent after treating outliers and removing invalid values, ensuring the data is now more reliable for analysis.**"
   ]
  },
  {
   "cell_type": "code",
   "execution_count": 207,
   "id": "d943f344",
   "metadata": {},
   "outputs": [
    {
     "data": {
      "text/html": [
       "<div>\n",
       "<style scoped>\n",
       "    .dataframe tbody tr th:only-of-type {\n",
       "        vertical-align: middle;\n",
       "    }\n",
       "\n",
       "    .dataframe tbody tr th {\n",
       "        vertical-align: top;\n",
       "    }\n",
       "\n",
       "    .dataframe thead th {\n",
       "        text-align: right;\n",
       "    }\n",
       "</style>\n",
       "<table border=\"1\" class=\"dataframe\">\n",
       "  <thead>\n",
       "    <tr style=\"text-align: right;\">\n",
       "      <th></th>\n",
       "      <th>driver_age</th>\n",
       "      <th>driver_rating</th>\n",
       "      <th>temp</th>\n",
       "      <th>humidity</th>\n",
       "      <th>distance</th>\n",
       "    </tr>\n",
       "  </thead>\n",
       "  <tbody>\n",
       "    <tr>\n",
       "      <th>count</th>\n",
       "      <td>9981.000000</td>\n",
       "      <td>9981.000000</td>\n",
       "      <td>9981.000000</td>\n",
       "      <td>9981.000000</td>\n",
       "      <td>9981.000000</td>\n",
       "    </tr>\n",
       "    <tr>\n",
       "      <th>mean</th>\n",
       "      <td>29.509568</td>\n",
       "      <td>4.629777</td>\n",
       "      <td>22.938552</td>\n",
       "      <td>66.166516</td>\n",
       "      <td>14.157725</td>\n",
       "    </tr>\n",
       "    <tr>\n",
       "      <th>std</th>\n",
       "      <td>5.659248</td>\n",
       "      <td>0.309834</td>\n",
       "      <td>3.379503</td>\n",
       "      <td>15.594136</td>\n",
       "      <td>7.782061</td>\n",
       "    </tr>\n",
       "    <tr>\n",
       "      <th>min</th>\n",
       "      <td>20.000000</td>\n",
       "      <td>2.500000</td>\n",
       "      <td>6.770000</td>\n",
       "      <td>27.000000</td>\n",
       "      <td>1.550000</td>\n",
       "    </tr>\n",
       "    <tr>\n",
       "      <th>25%</th>\n",
       "      <td>25.000000</td>\n",
       "      <td>4.500000</td>\n",
       "      <td>20.140000</td>\n",
       "      <td>54.000000</td>\n",
       "      <td>8.210000</td>\n",
       "    </tr>\n",
       "    <tr>\n",
       "      <th>50%</th>\n",
       "      <td>29.000000</td>\n",
       "      <td>4.700000</td>\n",
       "      <td>23.000000</td>\n",
       "      <td>67.000000</td>\n",
       "      <td>13.400000</td>\n",
       "    </tr>\n",
       "    <tr>\n",
       "      <th>75%</th>\n",
       "      <td>34.000000</td>\n",
       "      <td>4.800000</td>\n",
       "      <td>25.980000</td>\n",
       "      <td>81.000000</td>\n",
       "      <td>18.860000</td>\n",
       "    </tr>\n",
       "    <tr>\n",
       "      <th>max</th>\n",
       "      <td>39.000000</td>\n",
       "      <td>5.000000</td>\n",
       "      <td>29.050000</td>\n",
       "      <td>94.000000</td>\n",
       "      <td>38.178379</td>\n",
       "    </tr>\n",
       "  </tbody>\n",
       "</table>\n",
       "</div>"
      ],
      "text/plain": [
       "        driver_age  driver_rating         temp     humidity     distance\n",
       "count  9981.000000    9981.000000  9981.000000  9981.000000  9981.000000\n",
       "mean     29.509568       4.629777    22.938552    66.166516    14.157725\n",
       "std       5.659248       0.309834     3.379503    15.594136     7.782061\n",
       "min      20.000000       2.500000     6.770000    27.000000     1.550000\n",
       "25%      25.000000       4.500000    20.140000    54.000000     8.210000\n",
       "50%      29.000000       4.700000    23.000000    67.000000    13.400000\n",
       "75%      34.000000       4.800000    25.980000    81.000000    18.860000\n",
       "max      39.000000       5.000000    29.050000    94.000000    38.178379"
      ]
     },
     "execution_count": 207,
     "metadata": {},
     "output_type": "execute_result"
    }
   ],
   "source": [
    "new_df.describe()"
   ]
  },
  {
   "cell_type": "markdown",
   "id": "795c5ce6",
   "metadata": {},
   "source": [
    ">#### 💾 Exporting Cleaned Data to CSV File"
   ]
  },
  {
   "cell_type": "code",
   "execution_count": 208,
   "id": "3575f0d2",
   "metadata": {},
   "outputs": [],
   "source": [
    "# save the dataframe in to csv\n",
    "new_df.to_csv('D:/python for data science/courier_project/cleaned_data.csv', index=False)"
   ]
  },
  {
   "cell_type": "markdown",
   "id": "2902f44f",
   "metadata": {},
   "source": [
    ">#### 🔗 Importing CSV Data into MySQL Database with Table Creation and Insertion"
   ]
  },
  {
   "cell_type": "code",
   "execution_count": 209,
   "id": "6293e23a",
   "metadata": {},
   "outputs": [
    {
     "name": "stdout",
     "output_type": "stream",
     "text": [
      "Processing cleaned_data.csv\n",
      "NaN values before replacement:\n",
      "traffic          0\n",
      "driver_id        0\n",
      "weather          0\n",
      "order_type       0\n",
      "vehicle_type     0\n",
      "driver_age       0\n",
      "driver_rating    0\n",
      "rest_lat         0\n",
      "rest_lon         0\n",
      "dest_lat         0\n",
      "dest_lon         0\n",
      "temp             0\n",
      "humidity         0\n",
      "distance         0\n",
      "dtype: int64\n",
      "\n"
     ]
    }
   ],
   "source": [
    "import pandas as pd\n",
    "import mysql.connector\n",
    "import os\n",
    "\n",
    "# List of CSV files and their corresponding table names\n",
    "csv_files = [\n",
    "    ('cleaned_data.csv', 'courier_data'),\n",
    "]\n",
    "\n",
    "# Connect to the MySQL database\n",
    "conn = mysql.connector.connect(\n",
    "    host='localhost',\n",
    "    user='root',\n",
    "    password='jamali,786',\n",
    "    database='delivery_db'\n",
    ")\n",
    "cursor = conn.cursor()\n",
    "\n",
    "# Folder containing the CSV files\n",
    "folder_path = 'D:/python for data science/courier_project'\n",
    "\n",
    "def get_sql_type(dtype):\n",
    "    \"\"\"Map pandas data types to SQL data types.\"\"\"\n",
    "    if pd.api.types.is_integer_dtype(dtype):\n",
    "        return 'INT'\n",
    "    elif pd.api.types.is_float_dtype(dtype):\n",
    "        return 'FLOAT'\n",
    "    elif pd.api.types.is_bool_dtype(dtype):\n",
    "        return 'BOOLEAN'\n",
    "    elif pd.api.types.is_datetime64_any_dtype(dtype):\n",
    "        return 'DATETIME'\n",
    "    else:\n",
    "        return 'TEXT'\n",
    "\n",
    "for csv_file, table_name in csv_files:\n",
    "    file_path = os.path.join(folder_path, csv_file)\n",
    "    \n",
    "    try:\n",
    "        # Read the CSV file into a pandas DataFrame\n",
    "        df = pd.read_csv(file_path, encoding='ISO-8859-1')  # Specify encoding\n",
    "\n",
    "        # Replace NaN with None to handle SQL NULL\n",
    "        df = df.where(pd.notnull(df), None)\n",
    "\n",
    "        # Debugging: Check for NaN values\n",
    "        print(f\"Processing {csv_file}\")\n",
    "        print(f\"NaN values before replacement:\\n{df.isnull().sum()}\\n\")\n",
    "\n",
    "        # Clean column names\n",
    "        df.columns = [col.replace(' ', '_').replace('-', '_').replace('.', '_') for col in df.columns]\n",
    "\n",
    "        # Generate the CREATE TABLE statement with appropriate data types\n",
    "        columns = ', '.join([f'`{col}` {get_sql_type(df[col].dtype)}' for col in df.columns])\n",
    "        create_table_query = f'CREATE TABLE IF NOT EXISTS `{table_name}` ({columns})'\n",
    "        \n",
    "        cursor.execute(create_table_query)\n",
    "\n",
    "        # Insert DataFrame data into the MySQL table\n",
    "        for _, row in df.iterrows():\n",
    "            # Convert row to tuple and handle NaN/None explicitly\n",
    "            values = tuple(None if pd.isna(x) else x for x in row)\n",
    "            sql = f\"INSERT INTO `{table_name}` ({', '.join(['`' + col + '`' for col in df.columns])}) VALUES ({', '.join(['%s'] * len(row))})\"\n",
    "            cursor.execute(sql, values)\n",
    "\n",
    "        # Commit the transaction for the current CSV file\n",
    "        conn.commit()\n",
    "\n",
    "    except Exception as e:\n",
    "        print(f\"Error processing {csv_file}: {e}\")\n",
    "        conn.rollback()  # Rollback in case of error\n",
    "\n",
    "# Close the cursor and connection\n",
    "cursor.close()\n",
    "conn.close()"
   ]
  },
  {
   "cell_type": "markdown",
   "id": "75def1ed",
   "metadata": {},
   "source": [
    "#### Final Data Preprocessing Report\n",
    "1. **Dataset Overview**\n",
    "   1. 10,000 delivery records with 14 columns.\n",
    "   2. Covers delivery conditions, personnel details, environmental factors, and location info.\n",
    "   3. Missing values found in Traffic_Level, weather, temperature, humidity, and distance.\n",
    "   4. Some columns required data type corrections.\n",
    "\n",
    "2. **Handling Missing Values**\n",
    "    1. Traffic_Level (categorical): Imputed with mode (most frequent value).\n",
    "    2. Temperature (numerical): Imputed with median (robust against outliers).\n",
    "    3. Humidity & Weather: Minor missing values filled appropriately.\n",
    "    4. Distance (km): Missing values imputed to maintain dataset completeness.\n",
    "    5. ✅ No missing values remained after imputation.\n",
    "\n",
    "3.  **Renaming Columns**\n",
    "    1. Simplified column names for readability and reduced errors.\n",
    "\n",
    "4.  **Data Standardization**\n",
    "    1. Weather: Merged similar labels (e.g., few clouds → Partly Cloudy).\n",
    "    2.  Vehicle Type: Grouped related categories (e.g., motorcycle & scooter → Bike).\n",
    "\n",
    "5.  **Descriptive Statistics & Data Validation**\n",
    "    1. Initial statistics highlighted irregularities:\n",
    "    2. Driver Age: Minimum = 15 (illegal age), Maximum = 50 (too high).\n",
    "    3. Driver Rating: Maximum = 6 (should be within 1–5).\n",
    "    4. Humidity: Maximum = 94, high but valid.\n",
    "    5. Distance: Maximum = 59.84 km, identified as an outlier.\n",
    "\n",
    "6.  **Cleaning Invalid Values**\n",
    "    1. Removed unrealistic driver ages (15 and 50)\n",
    "    2. Invalid rating of 6 was linked to these records and removed automatically.\n",
    "\n",
    "7. **Outlier Detection & Treatment in Distance**\n",
    "    1. **Method 1: Z-Score (3-Sigma Rule):** Detected extreme values; removal reduced dataset size.\n",
    "    2. **Method 2: Capping (Chosen):** Replaced values beyond limits with upper/lower bounds.\n",
    "    3. ✅ **Decision:** Adopted Method 2 (Capping) to retain all records while controlling distortion.\n",
    "\n",
    "8. **Visualization**\n",
    "   1. Bar Plot & Box Plot used before and after treatment.\n",
    "   2. Post-capping boxplot confirmed outliers were properly adjusted.\n",
    "\n",
    "9.  **Final Statistics**\n",
    "    1. Dataset is now free of missing values, unrealistic ages, invalid ratings, and extreme distances.\n",
    "    2. Cleaner, more consistent, and well-prepared for analysis and modeling."
   ]
  }
 ],
 "metadata": {
  "kernelspec": {
   "display_name": "python_ml",
   "language": "python",
   "name": "python3"
  },
  "language_info": {
   "codemirror_mode": {
    "name": "ipython",
    "version": 3
   },
   "file_extension": ".py",
   "mimetype": "text/x-python",
   "name": "python",
   "nbconvert_exporter": "python",
   "pygments_lexer": "ipython3",
   "version": "3.11.11"
  }
 },
 "nbformat": 4,
 "nbformat_minor": 5
}
